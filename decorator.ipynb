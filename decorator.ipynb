{
 "cells": [
  {
   "cell_type": "markdown",
   "metadata": {},
   "source": [
    "**Decorators in Python:**"
   ]
  },
  {
   "cell_type": "code",
   "execution_count": 2,
   "metadata": {},
   "outputs": [
    {
     "name": "stdout",
     "output_type": "stream",
     "text": [
      "Something is happening before the function is called.\n",
      "Hello!\n",
      "Something is happening after the function is called.\n"
     ]
    }
   ],
   "source": [
    "def my_decorator(func):\n",
    "    def wrapper(*args, **kwargs):\n",
    "        print(\"Something is happening before the function is called.\")\n",
    "        result = func(*args, **kwargs)\n",
    "        print(\"Something is happening after the function is called.\")\n",
    "        return result\n",
    "    return wrapper\n",
    "\n",
    "@my_decorator\n",
    "def say_hello():\n",
    "    print(\"Hello!\")\n",
    "\n",
    "say_hello()"
   ]
  },
  {
   "cell_type": "markdown",
   "metadata": {},
   "source": [
    "**@square decorator:**"
   ]
  },
  {
   "cell_type": "code",
   "execution_count": 1,
   "metadata": {},
   "outputs": [
    {
     "name": "stdout",
     "output_type": "stream",
     "text": [
      "36\n"
     ]
    }
   ],
   "source": [
    "def square(func):\n",
    "    def wrapper(x):\n",
    "        result = func(x)\n",
    "        return result * result\n",
    "    return wrapper\n",
    "\n",
    "@square\n",
    "def double(x):\n",
    "    return x * 2\n",
    "\n",
    "print(double(3))  # Output: 36"
   ]
  },
  {
   "cell_type": "markdown",
   "metadata": {},
   "source": [
    "**Authentication vs. Authorization**"
   ]
  },
  {
   "cell_type": "markdown",
   "metadata": {},
   "source": [
    "\t•\tAuthentication: Verifies the user’s identity (e.g., username and password). “Who are you?”\n",
    "\t•\tAuthorization: Determines what the user is allowed to do. “What can you do?”"
   ]
  },
  {
   "cell_type": "markdown",
   "metadata": {},
   "source": [
    "**Role of Decorators:**"
   ]
  },
  {
   "cell_type": "markdown",
   "metadata": {},
   "source": [
    "\t•\tAuthentication Decorators: Ensure that the user is authenticated before accessing a function.\n",
    "\t•\tAuthorization Decorators: Check permissions or roles before allowing access."
   ]
  },
  {
   "cell_type": "code",
   "execution_count": 3,
   "metadata": {},
   "outputs": [],
   "source": [
    "def authenticated_only(func):\n",
    "    def wrapper(user, *args, **kwargs):\n",
    "        if not user.is_authenticated:\n",
    "            raise PermissionError(\"User is not authenticated.\")\n",
    "        return func(user, *args, **kwargs)\n",
    "    return wrapper"
   ]
  },
  {
   "cell_type": "markdown",
   "metadata": {},
   "source": [
    "**Here’s a @retry decorator implementation:**"
   ]
  },
  {
   "cell_type": "code",
   "execution_count": null,
   "metadata": {},
   "outputs": [
    {
     "name": "stdout",
     "output_type": "stream",
     "text": [
      "Trying...\n",
      "Attempt 1 failed: Simulated error\n",
      "Trying...\n",
      "Attempt 2 failed: Simulated error\n",
      "Trying...\n",
      "Success\n"
     ]
    }
   ],
   "source": [
    "import time\n",
    "\n",
    "def retry(retries=3, delay=2):\n",
    "    def decorator(func):\n",
    "        def wrapper(*args, **kwargs):\n",
    "            attempt = 0\n",
    "            while attempt < retries:\n",
    "                try:\n",
    "                    return func(*args, **kwargs)\n",
    "                except Exception as e:\n",
    "                    print(f\"Attempt {attempt + 1} failed: {e}\")\n",
    "                    attempt += 1\n",
    "                    time.sleep(delay)\n",
    "            raise Exception(\"All retry attempts failed.\")\n",
    "        return wrapper\n",
    "    return decorator\n",
    "\n",
    "@retry(retries=3, delay=1)\n",
    "def test_func():\n",
    "    print(\"Trying...\")\n",
    "    if test_func.attempts < 2:\n",
    "        test_func.attempts += 1\n",
    "        raise ValueError(\"Simulated error\")\n",
    "    return \"Success\"\n",
    "\n",
    "test_func.attempts = 0\n",
    "\n",
    "# to test\n",
    "print(test_func())"
   ]
  },
  {
   "cell_type": "markdown",
   "metadata": {},
   "source": [
    "**The *AbstractDecorator* will serve as a base for all decorators. Here’s a Python implementation:**"
   ]
  },
  {
   "cell_type": "code",
   "execution_count": null,
   "metadata": {},
   "outputs": [],
   "source": [
    "class AbstractDecorator:\n",
    "    def __init__(self, component):\n",
    "        self.component = component\n",
    "\n",
    "    def operation(self):\n",
    "        return self.component.operation()"
   ]
  },
  {
   "cell_type": "markdown",
   "metadata": {},
   "source": [
    "**Tests decorators:**"
   ]
  },
  {
   "cell_type": "code",
   "execution_count": null,
   "metadata": {},
   "outputs": [],
   "source": [
    "import unittest\n",
    "\n",
    "class TestDecorators(unittest.TestCase):\n",
    "    def test_paper_decorator(self):\n",
    "        item = FlowerBucket()\n",
    "        decorated_item = PaperDecorator(item)\n",
    "        self.assertEqual(decorated_item.get_price(), item.get_price() + 3)\n",
    "\n",
    "if __name__ == \"__main__\":\n",
    "    unittest.main()"
   ]
  },
  {
   "cell_type": "markdown",
   "metadata": {},
   "source": [
    "**Python Implementation of the Decorator Pattern**"
   ]
  },
  {
   "cell_type": "markdown",
   "metadata": {},
   "source": [
    "Base classes:"
   ]
  },
  {
   "cell_type": "code",
   "execution_count": null,
   "metadata": {},
   "outputs": [],
   "source": [
    "class Item:\n",
    "    \"\"\"Base component.\"\"\"\n",
    "    def get_price(self):\n",
    "        return 0\n",
    "\n",
    "    def get_description(self):\n",
    "        return \"Generic Item\"\n",
    "\n",
    "class FlowerBucket(Item):\n",
    "    \"\"\"Concrete component.\"\"\"\n",
    "    def __init__(self):\n",
    "        self.flowers = []\n",
    "\n",
    "    def add_flower(self, flower):\n",
    "        self.flowers.append(flower)\n",
    "\n",
    "    def get_price(self):\n",
    "        return sum(flower.price for flower in self.flowers)\n",
    "\n",
    "    def get_description(self):\n",
    "        return f\"Flower bucket with {len(self.flowers)} flowers\"\n",
    "\n",
    "class Flower:\n",
    "    \"\"\"Represents a flower with a price.\"\"\"\n",
    "    def __init__(self, name, price):\n",
    "        self.name = name\n",
    "        self.price = price"
   ]
  },
  {
   "cell_type": "markdown",
   "metadata": {},
   "source": [
    "Decorator Classes:"
   ]
  },
  {
   "cell_type": "code",
   "execution_count": null,
   "metadata": {},
   "outputs": [],
   "source": [
    "class AbstractDecorator(Item):\n",
    "    \"\"\"Abstract decorator base class.\"\"\"\n",
    "    def __init__(self, item):\n",
    "        self.item = item\n",
    "\n",
    "    def get_price(self):\n",
    "        return self.item.get_price()\n",
    "\n",
    "    def get_description(self):\n",
    "        return self.item.get_description()\n",
    "\n",
    "class PaperDecorator(AbstractDecorator):\n",
    "    \"\"\"Adds paper wrapping to the item.\"\"\"\n",
    "    def get_price(self):\n",
    "        return self.item.get_price() + 3  # Adds paper cost\n",
    "\n",
    "    def get_description(self):\n",
    "        return f\"{self.item.get_description()} with paper wrapping\"\n",
    "\n",
    "class RibbonDecorator(AbstractDecorator):\n",
    "    \"\"\"Adds a ribbon to the item.\"\"\"\n",
    "    def get_price(self):\n",
    "        return self.item.get_price() + 2  # Adds ribbon cost\n",
    "\n",
    "    def get_description(self):\n",
    "        return f\"{self.item.get_description()} with a ribbon\"\n",
    "\n",
    "class BasketDecorator(AbstractDecorator):\n",
    "    \"\"\"Adds a basket to the item.\"\"\"\n",
    "    def get_price(self):\n",
    "        return self.item.get_price() + 4  # Adds basket cost\n",
    "\n",
    "    def get_description(self):\n",
    "        return f\"{self.item.get_description()} in a basket\""
   ]
  },
  {
   "cell_type": "markdown",
   "metadata": {},
   "source": [
    "Example Usage:"
   ]
  },
  {
   "cell_type": "code",
   "execution_count": null,
   "metadata": {},
   "outputs": [],
   "source": [
    "def test_decorators():\n",
    "    # Create flowers\n",
    "    flower1 = Flower(\"Rose\", 5)\n",
    "    flower2 = Flower(\"Tulip\", 3)\n",
    "\n",
    "    # Create a flower bucket and add flowers\n",
    "    flower_bucket = FlowerBucket()\n",
    "    flower_bucket.add_flower(flower1)\n",
    "    flower_bucket.add_flower(flower2)\n",
    "\n",
    "    # Apply decorators\n",
    "    decorated_item = PaperDecorator(RibbonDecorator(BasketDecorator(flower_bucket)))\n",
    "\n",
    "    # Display the final price and description\n",
    "    print(\"Total Price:\", decorated_item.get_price())\n",
    "    print(\"Description:\", decorated_item.get_description())\n",
    "\n",
    "test_decorators()"
   ]
  }
 ],
 "metadata": {
  "kernelspec": {
   "display_name": "Python 3",
   "language": "python",
   "name": "python3"
  },
  "language_info": {
   "codemirror_mode": {
    "name": "ipython",
    "version": 3
   },
   "file_extension": ".py",
   "mimetype": "text/x-python",
   "name": "python",
   "nbconvert_exporter": "python",
   "pygments_lexer": "ipython3",
   "version": "3.11.5"
  }
 },
 "nbformat": 4,
 "nbformat_minor": 2
}
